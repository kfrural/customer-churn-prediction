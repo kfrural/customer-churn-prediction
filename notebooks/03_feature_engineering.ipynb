{
 "cells": [
  {
   "cell_type": "code",
   "execution_count": 3,
   "metadata": {},
   "outputs": [
    {
     "name": "stdout",
     "output_type": "stream",
     "text": [
      "Data loaded successfully.\n",
      "Feature engineering completed.\n",
      "Modified data saved successfully.\n"
     ]
    }
   ],
   "source": [
    "import pandas as pd\n",
    "\n",
    "# Load processed data\n",
    "df = pd.read_csv('../data/processed_churn_data.csv')\n",
    "print(\"Data loaded successfully.\")\n",
    "\n",
    "# Feature engineering example\n",
    "df['monthly_tenure_interaction'] = df['MonthlyCharges'] * df['tenure']\n",
    "print(\"Feature engineering completed.\")\n",
    "\n",
    "# Save the modified dataset\n",
    "df.to_csv('../data/processed_churn_data.csv', index=False)\n",
    "print(\"Modified data saved successfully.\")\n"
   ]
  },
  {
   "cell_type": "code",
   "execution_count": null,
   "metadata": {},
   "outputs": [],
   "source": []
  }
 ],
 "metadata": {
  "kernelspec": {
   "display_name": "Python 3 (ipykernel)",
   "language": "python",
   "name": "python3"
  },
  "language_info": {
   "codemirror_mode": {
    "name": "ipython",
    "version": 3
   },
   "file_extension": ".py",
   "mimetype": "text/x-python",
   "name": "python",
   "nbconvert_exporter": "python",
   "pygments_lexer": "ipython3",
   "version": "3.12.1"
  }
 },
 "nbformat": 4,
 "nbformat_minor": 4
}
